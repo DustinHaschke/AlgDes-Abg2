{
  "nbformat": 4,
  "nbformat_minor": 0,
  "metadata": {
    "colab": {
      "provenance": [],
      "authorship_tag": "ABX9TyNQCnn9M417wT4u6wn/X1Dp",
      "include_colab_link": true
    },
    "kernelspec": {
      "name": "python3",
      "display_name": "Python 3"
    },
    "language_info": {
      "name": "python"
    }
  },
  "cells": [
    {
      "cell_type": "markdown",
      "metadata": {
        "id": "view-in-github",
        "colab_type": "text"
      },
      "source": [
        "<a href=\"https://colab.research.google.com/github/DustinHaschke/AlgDes-Abg2/blob/main/AlgDes_Abgabe2.ipynb\" target=\"_parent\"><img src=\"https://colab.research.google.com/assets/colab-badge.svg\" alt=\"Open In Colab\"/></a>"
      ]
    },
    {
      "cell_type": "markdown",
      "source": [
        "#Aufgabe 2"
      ],
      "metadata": {
        "id": "sN6pnOjfZCwA"
      }
    },
    {
      "cell_type": "code",
      "execution_count": null,
      "metadata": {
        "colab": {
          "base_uri": "https://localhost:8080/"
        },
        "id": "mGqdWFw69ClA",
        "outputId": "e107f17d-b340-499b-b313-0cd706f2adf3"
      },
      "outputs": [
        {
          "output_type": "stream",
          "name": "stdout",
          "text": [
            "False\n",
            "True\n"
          ]
        }
      ],
      "source": [
        "def possible_splitset(a):\n",
        "    summe = sum(a)\n",
        "\n",
        "    # Abbruch, falls Summe ungerade\n",
        "    if summe % 2:\n",
        "        return False\n",
        "\n",
        "    b = int(summe / 2)\n",
        "    n = len(a)\n",
        "\n",
        "    knapsack = [False] * (b+1)\n",
        "\n",
        "    #neutraler Startwert bei Null\n",
        "    knapsack[0] = True\n",
        "\n",
        "# jeder Eintrag im Abstand von alle True-Werten, wird\n",
        "    for zahl in a:\n",
        "        for i in range(zahl, b+1):\n",
        "            knapsack[i] = knapsack[i] or knapsack[i - zahl]\n",
        "    return knapsack[b]\n",
        "\n",
        "print(possible_splitset([1,2,3,4,5]))\n",
        "print(possible_splitset([1,2,3,4]))"
      ]
    },
    {
      "cell_type": "code",
      "source": [
        "def min_diff(a):\n",
        "    summe = sum(a)\n",
        "    b = summe//2 + 1        #Zielwert, da man bei Null anfängt\n",
        "\n",
        "    knapsack, erreichbar = [False] * b, [False] * b\n",
        "    knapsack[0] = True\n",
        "\n",
        "    for i in range(len(a)):             #für jeden Zahl aus A...\n",
        "        for j in range(b - a[i]):       # wird 1.) von 0 bis zum Zielwert-Minus-Zahl durchlaufen\n",
        "            erreichbar[j + a[i]] = knapsack[j]      # ist dabei knapsack[j] wahr, wird auch der erreichbare Eintrag wahr.\n",
        "        for j in range(b):              # danach wird 2.) von 0 bis Zielwert durchlaufen\n",
        "            if erreichbar[j]:            # falls erreichbar\n",
        "                knapsack[j] = True      # wird Knappsack 1 auch auf True gesetzt\n",
        "\n",
        "    for i in range(b-1, -1, -1):      #ausgehend vom Zielwert\n",
        "        if knapsack[i]:                 #ermitteln wir, ob es ein wahres knapsack-Element gibt\n",
        "            return (summe-2*i)      # und ermitteln die Summe der Differenz\n",
        "\n",
        "print(\"Die minimale Differenz beträgt\", min_diff([0,1,2,3,10]))\n",
        "print(\"Die minimale Differenz beträgt\", min_diff([1,2,3,4,5,6,7,8,9,10]))\n",
        "print(\"Die minimale Differenz beträgt\", min_diff([10,5,1,60,7,3]))"
      ],
      "metadata": {
        "colab": {
          "base_uri": "https://localhost:8080/"
        },
        "id": "MD-KD4GoDJlB",
        "outputId": "1647308b-bd38-4ed2-d9c6-a9447187ce57"
      },
      "execution_count": null,
      "outputs": [
        {
          "output_type": "stream",
          "name": "stdout",
          "text": [
            "Die minimale Differenz beträgt 4\n",
            "Die minimale Differenz beträgt 1\n",
            "Die minimale Differenz beträgt 34\n"
          ]
        }
      ]
    },
    {
      "cell_type": "markdown",
      "source": [
        "#Aufgabe 3"
      ],
      "metadata": {
        "id": "oggGCMZGZFUz"
      }
    },
    {
      "cell_type": "code",
      "source": [
        "def surfplan(a, b):\n",
        "    n = len(a)\n",
        "    T = [0] * (n + 1)\n",
        "\n",
        "    # Berechne T[i] von hinten nach vorne\n",
        "    for i in range(n, 0, -1):\n",
        "\n",
        "        #falls ein Ritt noch möglich ist, setze Wert für wellenreiten\n",
        "        if b[i-1] <= n-i-1:\n",
        "            wellenreiten = a[i-1] + T[i + b[i-1] + 1]\n",
        "        #ansonsten\n",
        "        else:\n",
        "            wellenreiten = a[i-1]\n",
        "\n",
        "        # falls nicht erste Schleife, berechne Abwartenoptionen\n",
        "        if i + 1 <= n:\n",
        "            abwarten = T[i + 1]\n",
        "        else:\n",
        "            abwarten = 0\n",
        "\n",
        "        # maximiere iterativ über die beiden Werte (schaue je, welcher rekursiv größer wird)\n",
        "        T[i] = max(wellenreiten, abwarten)\n",
        "    return T[1]\n",
        "\n",
        "hoehe =     (5,3,2,9,15,7,7)\n",
        "wartezeit = (1,2,1,2, 1,0,1)\n",
        "\n",
        "surfplan(hoehe,wartezeit)"
      ],
      "metadata": {
        "colab": {
          "base_uri": "https://localhost:8080/"
        },
        "id": "_DgoXbCbZGiD",
        "outputId": "9ad95acf-f76c-43d7-fbab-4d5e92c52b9b"
      },
      "execution_count": 114,
      "outputs": [
        {
          "output_type": "execute_result",
          "data": {
            "text/plain": [
              "29"
            ]
          },
          "metadata": {},
          "execution_count": 114
        }
      ]
    }
  ]
}